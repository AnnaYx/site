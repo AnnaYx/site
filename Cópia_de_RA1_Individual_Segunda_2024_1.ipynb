{
  "nbformat": 4,
  "nbformat_minor": 0,
  "metadata": {
    "colab": {
      "provenance": [],
      "include_colab_link": true
    },
    "kernelspec": {
      "name": "python3",
      "display_name": "Python 3"
    },
    "language_info": {
      "name": "python"
    }
  },
  "cells": [
    {
      "cell_type": "markdown",
      "metadata": {
        "id": "view-in-github",
        "colab_type": "text"
      },
      "source": [
        "<a href=\"https://colab.research.google.com/github/AnnaYx/site/blob/main/C%C3%B3pia_de_RA1_Individual_Segunda_2024_1.ipynb\" target=\"_parent\"><img src=\"https://colab.research.google.com/assets/colab-badge.svg\" alt=\"Open In Colab\"/></a>"
      ]
    },
    {
      "cell_type": "markdown",
      "source": [
        "# Avaliação em INDIVIDUAL RA1 - 2024-1\n",
        "\n",
        "**Antes de começar, leia estas instruções cuidadosamente.**\n",
        "Esta avaliação é individual. Você poderá consultar qualquer fonte disponível na biblioteca, suas anotações ou na internet. Mas, não poderá consultar outras pessoas.\n",
        "\n",
        "Não existirão prorrogações de prazo de entrega.\n",
        "\n",
        "Trabalhos idênticos entregues por pessoas, diferentes, serão anulados.\n",
        "\n",
        "Todos os trabalhos serão entregues em uma cópia deste caderno de atividades na forma de um link postado no AVA da instituição (Canvas). Todos os enunciados devem ser preservados e você deverá inserir uma célula de textos com o **seu nome**, logo após esta célula de texto de instruções.\n",
        "\n",
        "Qualquer alteração do caderno contendo as suas respostas que seja registrada após a data de postagem provocará a anulação da avaliação.\n",
        "\n",
        "Você poderá usar, neste notebook, apenas a linguagem python limitada ao uso das seguintes bibliotecas: numpy, sympy, matplotlib, ipWidgets e IPython. Todo e qualquer gráfico deverá ser criado usando o Python.\n",
        "\n",
        "Entrega será realizada com a postagem de um link para um ambiente de execução, no AVA da institução. Neste link o seu caderno deve permitir ser executado (permissão de leitor). Serão aceitos links diretos ao ambiente do Google Colaboratory, ou Links a um caderno do Google Colaboratory que tenha sido salvo pelo próprio Google Colaboratory no GitHub. Links para outro ambiente, ou que requeiram qualquer tipo de download, cliques extras, ou ainda, que requeiram aprovação para acesso, provocarão a nota zero na avaliação.\n",
        "\n",
        "Para salvar a avaliação no GitHub, clique no menu _Arquivo_ e escolha a opção _Salvar uma Cópia no Github_. Para que isso funcione você precisa ter um repositório no Github. O link que você irá compartilhar será a url da página que o próprio Gooble Colab irá abrir depois de salvar suas respostas no Github.\n",
        "\n",
        "Se você encontrar algo errado nesta avaliação simplesmente anote suas observações na própria questão. Suas observações serão consideradas durante a avaliação e, em caso de pertinência, poderão encejar a anulação do item, ou da questão, a critério do professor.\n",
        "\n",
        "Não é permitido usar qualquer técnica matemática baseada em derivação, ou que fuja dos conteúdos apresenados em aula referente ao estudo de limites. Você pode usar a fórmula das diferenças finitas e todas as regras e identidades algébricas que sejam pertinentes ao cálculo de limites.\n",
        "\n",
        "**Lembrem-se a interpretação faz parte da questão.**"
      ],
      "metadata": {
        "id": "IYWLM47FgvAt"
      }
    },
    {
      "cell_type": "markdown",
      "source": [
        "Anna Bosquilia Navarro"
      ],
      "metadata": {
        "id": "sPC6MFBkuVks"
      }
    },
    {
      "cell_type": "markdown",
      "source": [],
      "metadata": {
        "id": "0cmH_PsfuVYC"
      }
    },
    {
      "cell_type": "markdown",
      "source": [
        "## Questões\n",
        "\n",
        "Usando apenas álgebra encontre o limites solicitados a seguir e faça uma análise do resultado encontrados. Para fazer a análise você pode usar as ferramentas que desejar, desde que seja possível verificar a validade das suas afirmações usando apenas este caderno de avaliação.\n",
        "\n",
        "Lembre-se você deve usar notação matemática na sua resposta e todo o desenvolvimento deve estar explicitado (passo a passo). O que implica na obrigatoriedade do uso de Latex neste caderno de avaliação.\n",
        "\n",
        "Observe que o cálculo do valor do limite, usando uma calculadora, site, ou ferramenta qualquer, por si só não pode ser usado como argumento na sua análise. Isso quer dizer que justificativas como o limite é $w$ porque qualquer disse que era esse valor ou o limte é $w$ porque eu calculei usando o sympy, não serão aceitas.\n",
        "\n",
        "1. **Primeira Questão:**\n",
        "\n",
        "   $$\\lim_{{x \\to 0}} \\frac{1 - \\cos(x)}{x^2}$$\n",
        "\n",
        "2. **Segunda Questão:**\n",
        "\n",
        "   $$\\lim_{{x \\to 1}} \\frac{\\sqrt{x + 8} - 3}{x^2 - 1}$$\n",
        "\n",
        "3. **Terceira Questão:**\n",
        "  \n",
        "  $$\\lim_{h \\to 0} \\frac{(2 + h)^3 - 8}{h}$$\n",
        "\n",
        "4. **Quarta Questão:**\n",
        "  \n",
        "  $$\\lim_{t \\to 0} \\left( \\frac{1}{t\\sqrt{t + 1}} - \\frac{1}{t} \\right)$$\n",
        "\n",
        "**Rúbrica de avaliação**: cada limite corretamente determinado com a algebra demonstrada em notação matemática 1 ponto; cada análise consistente 1,5 pontos. Total 2.5 pontos por questão implicando em, no máximo 10 pontos."
      ],
      "metadata": {
        "id": "Hffk6Rtmhaga"
      }
    },
    {
      "cell_type": "markdown",
      "source": [
        "##Resposta Primeira Questão##\n",
        " $$ \\lim_{{x \\to 0}} \\left(1 - \\frac{{\\cos(x)}}{{x^2}}\\right) $$\n",
        "\n",
        "1. **Aplicação da Identidade Trigonométrica:**\n",
        "   Começamos manipulando a expressão usando a identidade trigonométrica $$ \\cos(x) - 1 = -2 \\sin^2\\left(\\frac{x}{2}\\right) $$ Isso nos permite reescrever a expressão como:\n",
        "   $$\n",
        "   \\lim_{{x \\to 0}} \\left(1 - \\frac{{\\cos(x)}}{{x^2}}\\right) = \\lim_{{x \\to 0}} \\left(1 - \\frac{{1 - \\cos(x)}}{{x^2}}\\right)\n",
        "   $$\n",
        "   Aqui, reescrevemos $$ \\cos(x) $$ como $$ 1 - (1 - \\cos(x)) $$ para aplicar a identidade trigonométrica.\n",
        "\n",
        "2. **Separação do Limite:**\n",
        "   Em seguida, separamos o limite em duas partes:\n",
        "   $$\n",
        "   \\lim_{{x \\to 0}} \\left(1 - \\frac{{\\cos(x)}}{{x^2}}\\right) = \\lim_{{x \\to 0}} \\left(1 - \\frac{{\\cos(x) - 1}}{{x^2}}\\right) + \\lim_{{x \\to 0}} \\frac{1}{x^2}\n",
        "   $$\n",
        "   Isso  permite lidar com os dois limites separadamente.\n",
        "\n",
        "3. **Aplicação do Limite do Seno:**\n",
        "   Sabemos que $$ \\lim_{{x \\to 0}} \\frac{{\\sin(x)}}{x} = 1 $$ o que implica $$ \\lim_{{x \\to 0}} \\frac{{\\sin(x)}}{{x^2}} = \\infty $$ Portanto, temos:\n",
        "   $$\n",
        "   \\lim_{{x \\to 0}} \\left(1 - \\frac{{\\cos(x) - 1}}{{x^2}}\\right) = \\lim_{{x \\to 0}} \\frac{{\\cos(x) - 1}}{{x^2}} = -\\frac{1}{2}\n",
        "   $$\n",
        "   Aqui, usamos a identidade $$ \\cos(x) - 1 = -2 \\sin^2\\left(\\frac{x}{2}\\right) $$ e o limite conhecido do seno.\n",
        "\n",
        "4. **Resultado Final:**\n",
        "   Combinando os resultados dos limites, obtemos:\n",
        "   $$\n",
        "   \\lim_{{x \\to 0}} \\left(1 - \\frac{{\\cos(x)}}{{x^2}}\\right) = -\\frac{1}{2} + \\lim_{{x \\to 0}} \\frac{1}{x^2} = -\\frac{1}{2} + \\infty = -\\infty\n",
        "   $$\n",
        "   Portanto, o limite $$ \\lim_{{x \\to 0}} \\left(1 - \\frac{{\\cos(x)}}{{x^2}}\\right) $$ é $$ -\\infty $$."
      ],
      "metadata": {
        "id": "v1DjvHQjt62l"
      }
    },
    {
      "cell_type": "markdown",
      "source": [
        "##Resposta segunda Questão##\n",
        " $$\\lim_{{x \\to 1}} \\left(\\sqrt{x + 8} - \\frac{3}{{x^2}}\\right) $$\n",
        "\n",
        "1. **Substituição Direta:**\n",
        "   O primeiro passo é substituir o valor de \\( x \\) na expressão e calcular diretamente o resultado:\n",
        "   \n",
        "   $$\n",
        "   \\lim_{{x \\to 1}} \\left(\\sqrt{x + 8} - \\frac{3}{{x^2}}\\right) = \\sqrt{1 + 8} - \\frac{3}{{1^2}} = \\sqrt{9} - 3 = 3 - 3 = 0\n",
        "   $$\n",
        "\n",
        "   Substituímos \\( x = 1 \\) na expressão original. O termo $$ \\sqrt{x + 8} $$ se torna $$ \\sqrt{1 + 8} = \\sqrt{9} = 3 $$ O termo $$ \\frac{3}{{x^2}} $$ se torna $$ \\frac{3}{{1^2}} = 3 $$ pois $$ 1^2 = 1 $$ Então, temos $$ 3 - 3 = 0 $$.\n",
        "\n",
        "Portanto, o limite $$ \\lim_{{x \\to 1}} \\left(\\sqrt{x + 8} - \\frac{3}{{x^2}}\\right) $$ é 0.\n"
      ],
      "metadata": {
        "id": "7Arh1hC_t88d"
      }
    },
    {
      "cell_type": "markdown",
      "source": [
        "##Resposta terceira Questão##\n",
        "$$ \\lim_{{h \\to 0}} \\frac{{(2 + h)^3 - 8}}{h} $$\n",
        "\n",
        "1. **Expandindo o Cubo:**\n",
        "   Primeiro, expandimos $$ (2 + h)^3 $$ utilizando a fórmula do cubo da soma:\n",
        "   $$\n",
        "   (2 + h)^3 = 2^3 + 3 \\cdot 2^2 \\cdot h + 3 \\cdot 2 \\cdot h^2 + h^3 = 8 + 12h + 6h^2 + h^3\n",
        "   $$\n",
        "\n",
        "2. **Substituição na Expressão Original:**\n",
        "   Substituímos $$ (2 + h)^3 $$ na expressão original e simplificamos:\n",
        "   $$\n",
        "   \\lim_{{h \\to 0}} \\frac{{(2 + h)^3 - 8}}{h} = \\lim_{{h \\to 0}} \\frac{{(8 + 12h + 6h^2 + h^3) - 8}}{h} = \\lim_{{h \\to 0}} \\frac{{12h + 6h^2 + h^3}}{h}\n",
        "   $$\n",
        "\n",
        "3. **Cancelando o \\( h \\) no Denominador:**\n",
        "   Como o limite é quando \\( h \\) se aproxima de 0, podemos cancelar o \\( h \\) no denominador:\n",
        "   $$\n",
        "   \\lim_{{h \\to 0}} \\frac{{12h + 6h^2 + h^3}}{h} = \\lim_{{h \\to 0}} (12 + 6h + h^2)\n",
        "   $$\n",
        "\n",
        "4. **Substituindo \\( h = 0 \\):**\n",
        "   Agora substituímos \\( h = 0 \\) na expressão simplificada:\n",
        "   $$\n",
        "   \\lim_{{h \\to 0}} (12 + 6h + h^2) = 12 + 6 \\cdot 0 + 0^2 = 12\n",
        "   $$\n",
        "\n",
        "Portanto, o limite $$ \\lim_{{h \\to 0}} \\frac{{(2 + h)^3 - 8}}{h} $$ é igual a 12."
      ],
      "metadata": {
        "id": "mLBlCi0zuCzy"
      }
    },
    {
      "cell_type": "markdown",
      "source": [
        "##Resposta quarta Questão##\n",
        " $$\\lim_{{t \\to 0}} \\left(\\frac{1}{{t\\sqrt{t + 1}}} - \\frac{1}{t}\\right)$$ Primeiramente, expandimos o numerador do termo racional:\n",
        "\n",
        "$$\n",
        "\\lim_{{t \\to 0}} \\left(\\frac{1}{{t\\sqrt{t + 1}}} - \\frac{1}{t}\\right) = \\lim_{{t \\to 0}} \\left(\\frac{1 - \\sqrt{t + 1}}{t\\sqrt{t + 1}}\\right)\n",
        "$$\n",
        "\n",
        "Em seguida, multiplicamos e dividimos por $$1 + \\sqrt{t + 1}$$:\n",
        "\n",
        "$$\n",
        "= \\lim_{{t \\to 0}} \\left(\\frac{1 - \\sqrt{t + 1}}{t\\sqrt{t + 1}} \\cdot \\frac{1 + \\sqrt{t + 1}}{1 + \\sqrt{t + 1}}\\right)\n",
        "$$\n",
        "\n",
        "Agora, aplicamos a propriedade $$(a - b)(a + b) = a^2 - b^2 $$:\n",
        "\n",
        "$$\n",
        "= \\lim_{{t \\to 0}} \\left(\\frac{1 - (t + 1)}{t\\sqrt{t + 1}(1 + \\sqrt{t + 1})}\\right)\n",
        "$$\n",
        "\n",
        "Simplificamos o numerador e o denominador:\n",
        "\n",
        "$$\n",
        "= \\lim_{{t \\to 0}} \\left(\\frac{-t}{t\\sqrt{t + 1}(1 + \\sqrt{t + 1})}\\right)\n",
        "$$\n",
        "\n",
        "Agora, cancelamos um fator de \\(t\\) do numerador e do denominador:\n",
        "\n",
        "$$\n",
        "= \\lim_{{t \\to 0}} \\left(\\frac{-1}{\\sqrt{t + 1}(1 + \\sqrt{t + 1})}\\right)\n",
        "$$\n",
        "\n",
        "Finalmente, substituímos \\(t = 0\\) na expressão:\n",
        "\n",
        "$$\n",
        "= \\frac{-1}{\\sqrt{0 + 1}(1 + \\sqrt{0 + 1})} = \\frac{-1}{\\sqrt{1} \\cdot (1 + 1)} = \\frac{-1}{2}\n",
        "$$\n",
        "\n",
        "Portanto, o limite é $$-\\frac{1}{2}$$."
      ],
      "metadata": {
        "id": "ljVp2ueMuG9z"
      }
    }
  ]
}